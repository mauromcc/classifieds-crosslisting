{
 "cells": [
  {
   "cell_type": "code",
   "execution_count": 2,
   "id": "9c8c76cd-8662-4b80-9eb0-d6d3092a73b7",
   "metadata": {},
   "outputs": [
    {
     "name": "stdin",
     "output_type": "stream",
     "text": [
      "Paste the Wallapop listing URL here:  https://es.wallapop.com/item/business-essentials-ronald-ebert-ricky-griffin-340687846\n"
     ]
    }
   ],
   "source": [
    "wallapop_url = input(\"Paste the Wallapop listing URL here: \").strip()"
   ]
  },
  {
   "cell_type": "code",
   "execution_count": 3,
   "id": "c370465d-82d5-4109-bcfc-cb028aa2ad64",
   "metadata": {},
   "outputs": [
    {
     "name": "stdout",
     "output_type": "stream",
     "text": [
      "Page loaded successfully.\n"
     ]
    }
   ],
   "source": [
    "headers = {\"User-Agent\": \"Mozilla/5.0 (Windows NT 10.0; Win64; x64)\"}\n",
    "\n",
    "import requests\n",
    "response = requests.get(wallapop_url, headers=headers)\n",
    "\n",
    "if response.status_code == 200:\n",
    "    print(\"Page loaded successfully.\")\n",
    "else:\n",
    "    print(\"Error loading page:\", response.status_code)"
   ]
  },
  {
   "cell_type": "code",
   "execution_count": 4,
   "id": "2118e683-d094-41f2-881f-e5dc015cd1f5",
   "metadata": {},
   "outputs": [
    {
     "name": "stdout",
     "output_type": "stream",
     "text": [
      "Title: Business Essentials (Ronald Ebert, Ricky Griffin)\n",
      "Price: 10 €\n",
      "Description: Business Essentials: International Edition\n",
      "de Ronald J. Ebert y Ricky W. Griffin\n",
      "\n",
      "ISBN: 9780131441583, 9780131271999\n",
      "Edición : 12-2003, 5a edición\n",
      "Editor: Pearson Higher Education\n",
      "Idioma: Inglés\n",
      "Dimensiones: 222 x 279 x 19 mm \n",
      "Tapa blanda \n",
      "Páginas: 558\n",
      "Peso: 1231 g\n",
      "\n",
      "Libro para la escuela de negócios y empresas. En muy buen estado, muy poco usado, basta que vean las fotos.\n",
      "\n",
      "Entrego en manos por Barcelona o envio por correos (5,60€).\n"
     ]
    }
   ],
   "source": [
    "from bs4 import BeautifulSoup\n",
    "\n",
    "soup = BeautifulSoup(response.text, \"html.parser\")\n",
    "\n",
    "# These selectors may need updating depending on page structure\n",
    "title_tag = soup.find(\"h1\")\n",
    "price_tag = soup.find(\"span\", {\"class\": lambda x: x and \"Price\" in x})\n",
    "desc_meta = soup.find(\"meta\", attrs={\"name\": \"og:description\"})\n",
    "\n",
    "title = title_tag.get_text(strip=True) if title_tag else \"N/A\"\n",
    "price = price_tag.get_text(strip=True) if price_tag else \"N/A\"\n",
    "description = desc_meta[\"content\"].strip() if desc_meta else \"N/A\"\n",
    "\n",
    "print(\"Title:\", title)\n",
    "print(\"Price:\", price)\n",
    "print(\"Description:\", description)"
   ]
  },
  {
   "cell_type": "code",
   "execution_count": 5,
   "id": "3604e38a-755e-4bf4-8d6c-15af8d32326f",
   "metadata": {},
   "outputs": [],
   "source": [
    "from selenium import webdriver\n",
    "from selenium.webdriver.chrome.service import Service\n",
    "from selenium.webdriver.chrome.options import Options\n",
    "from selenium.webdriver.common.by import By\n",
    "from selenium.webdriver.support.ui import WebDriverWait\n",
    "from selenium.webdriver.support import expected_conditions as EC\n",
    "from webdriver_manager.chrome import ChromeDriverManager\n",
    "import time"
   ]
  },
  {
   "cell_type": "code",
   "execution_count": 6,
   "id": "40332247-4c08-4fa9-8566-5cd0b558a964",
   "metadata": {},
   "outputs": [],
   "source": [
    "import os\n",
    "def download_image(url, folder=\"temp_images\"):\n",
    "    if not os.path.exists(folder):\n",
    "        os.makedirs(folder)\n",
    "    filename = url.split(\"/\")[-1].split(\"?\")[0]\n",
    "    path = os.path.join(folder, filename)\n",
    "    if not os.path.exists(path):\n",
    "        response = requests.get(url)\n",
    "        with open(path, \"wb\") as f:\n",
    "            f.write(response.content)\n",
    "    return path\n"
   ]
  },
  {
   "cell_type": "code",
   "execution_count": 7,
   "id": "8e323548-c5b3-4767-8dcb-4558e2405129",
   "metadata": {},
   "outputs": [
    {
     "name": "stdout",
     "output_type": "stream",
     "text": [
      "Downloaded 3 images:\n",
      "- https://cdn.wallapop.com/images/10420/5m/u4/__/c10420p340687846/i789835041.jpg?pictureSize=W640\n",
      "- https://cdn.wallapop.com/images/10420/5m/u4/__/c10420p340687846/i789827350.jpg?pictureSize=W640\n",
      "- https://cdn.wallapop.com/images/10420/5m/u4/__/c10420p340687846/i789840555.jpg?pictureSize=W640\n",
      "📂 Downloaded images to: C:/Users/Mauro/Documents/Python/wallapop_to_vinted/temp_images\n"
     ]
    }
   ],
   "source": [
    "# Launch headless browser for scraping Wallapop pictures\n",
    "wallapop_options = Options()\n",
    "wallapop_options.add_argument(\"--headless=new\")\n",
    "wallapop_options.add_argument(\"--disable-blink-features=AutomationControlled\")\n",
    "\n",
    "wallapop_driver = webdriver.Chrome(service=Service(ChromeDriverManager().install()), options=wallapop_options)\n",
    "wallapop_driver.get(wallapop_url)\n",
    "time.sleep(3)  # wait for page to load\n",
    "\n",
    "# Extract image URLs\n",
    "img_elements = wallapop_driver.find_elements(By.CSS_SELECTOR, \"img\")\n",
    "image_urls = []\n",
    "for img in img_elements:\n",
    "    src = img.get_attribute(\"src\")\n",
    "    if src and \"cdn.wallapop.com\" in src and \"W640\" in src:\n",
    "        if src not in image_urls:  # avoid duplicates\n",
    "            image_urls.append(src)\n",
    "\n",
    "wallapop_driver.quit()\n",
    "\n",
    "# Output\n",
    "image_urls = list(dict.fromkeys(image_urls))\n",
    "print(f\"Downloaded {len(image_urls)} images:\")\n",
    "for url in image_urls:\n",
    "    print(\"-\", url)\n",
    "local_images = [os.path.abspath(download_image(url)) for url in image_urls]\n",
    "folder_path = os.path.abspath(\"temp_images\")\n",
    "print(f\"📂 Downloaded images to: {folder_path.replace(os.sep, '/')}\")"
   ]
  },
  {
   "cell_type": "code",
   "execution_count": 8,
   "id": "744909a4-6ad5-4578-a033-873037ffd53e",
   "metadata": {},
   "outputs": [],
   "source": [
    "### Open chrome for Vinted\n",
    "chrome_options = Options()\n",
    "\n",
    "# Replace with your real Chrome profile path\n",
    "chrome_options.add_argument(r\"--user-data-dir=C:\\\\SeleniumProfile\")\n",
    "\n",
    "# Make Selenium look less like a bot\n",
    "chrome_options.add_argument(\"--disable-blink-features=AutomationControlled\")\n",
    "chrome_options.add_experimental_option(\"excludeSwitches\", [\"enable-automation\"])\n",
    "chrome_options.add_experimental_option(\"useAutomationExtension\", False)\n",
    "\n",
    "# Launch Chrome visibly (not headless)\n",
    "service = Service(ChromeDriverManager().install())\n",
    "driver = webdriver.Chrome(service=service, options=chrome_options)\n",
    "\n",
    "# Stealth script to hide webdriver\n",
    "driver.execute_cdp_cmd(\"Page.addScriptToEvaluateOnNewDocument\", {\n",
    "    \"source\": \"\"\"\n",
    "    Object.defineProperty(navigator, 'webdriver', {\n",
    "      get: () => undefined\n",
    "    })\n",
    "    \"\"\"\n",
    "})\n",
    "\n",
    "# Navigate to Vinted's item upload page in your existing driver\n",
    "driver.get(\"https://www.vinted.es/items/new\")\n",
    "time.sleep(5)  # Let it fully load"
   ]
  },
  {
   "cell_type": "code",
   "execution_count": 9,
   "id": "2a9b1b79-08d4-4f1b-858a-2060d3b1b56e",
   "metadata": {},
   "outputs": [],
   "source": [
    "# Images\n",
    "try:\n",
    "    upload_input = driver.find_element(By.CSS_SELECTOR, 'input[type=\"file\"]')\n",
    "    files_string = \"\\n\".join(local_images)  # Join image paths into a single newline-separated string\n",
    "    upload_input.send_keys(files_string)  # Upload images\n",
    "    time.sleep(5)\n",
    "except Exception as e:\n",
    "    print(\"Error uploading images:\", e)"
   ]
  },
  {
   "cell_type": "code",
   "execution_count": 10,
   "id": "82ebcdd9-f27c-49da-9481-f2f2c2025edd",
   "metadata": {},
   "outputs": [],
   "source": [
    "# Title field\n",
    "try:\n",
    "    title_input = driver.find_element(By.ID, \"title\")\n",
    "    title_input.clear()\n",
    "    title_input.send_keys(title)\n",
    "except Exception as e:\n",
    "    print(\"Error filling title:\", e)\n",
    "\n",
    "# Description field\n",
    "try:\n",
    "    description_input = driver.find_element(By.ID, \"description\")\n",
    "    description_input.clear()\n",
    "    description_input.send_keys(description)\n",
    "except Exception as e:\n",
    "    print(\"Error filling description:\", e)\n",
    "\n",
    "# Price field\n",
    "try:\n",
    "    price_input = driver.find_element(By.ID, \"price\")\n",
    "    price_input.clear()\n",
    "    price_input.send_keys(price)\n",
    "except Exception as e:\n",
    "    print(\"Error filling price:\", e)"
   ]
  },
  {
   "cell_type": "code",
   "execution_count": 11,
   "id": "ef519f77-cbe9-4b88-a203-d083a3299182",
   "metadata": {},
   "outputs": [
    {
     "name": "stdout",
     "output_type": "stream",
     "text": [
      "🔎 Clicked category field.\n",
      "✅ Clicked on first suggestion.\n"
     ]
    }
   ],
   "source": [
    "# Category field\n",
    "try:\n",
    "    # 1. Click the category input to open suggestions\n",
    "    category_input = WebDriverWait(driver, 10).until(EC.element_to_be_clickable((By.ID, \"category\")))\n",
    "    category_input.click()\n",
    "    print(\"🔎 Clicked category field.\")\n",
    "\n",
    "    # 2. Wait for the modal to appear with category list\n",
    "    first_suggestion = WebDriverWait(driver, 10).until(EC.element_to_be_clickable((By.CSS_SELECTOR, \"[id^='catalog-suggestion-']\")))\n",
    "\n",
    "    # 3. Click the first suggested category\n",
    "    first_suggestion.click()\n",
    "    print(\"✅ Clicked on first suggestion.\")\n",
    "    \n",
    "\n",
    "except Exception as e:\n",
    "    print(\"❌ Error selecting category:\", e)"
   ]
  },
  {
   "cell_type": "code",
   "execution_count": 12,
   "id": "fba58278-fecf-442a-8079-f3cffefd457d",
   "metadata": {},
   "outputs": [],
   "source": [
    "# import shutil\n",
    "# try:\n",
    "#     if os.path.exists(\"temp_images\"):\n",
    "#         print(f\"🧹 Deleting folder and images: {\"temp_images\"}\")\n",
    "#         shutil.rmtree(\"temp_images\")\n",
    "#         print(\"✅ Folder deleted.\")\n",
    "#     else:\n",
    "#         print(\"📁 No folder found to delete.\")\n",
    "# except Exception as e:\n",
    "#     print(\"⚠️ Error deleting folder:\", e)"
   ]
  }
 ],
 "metadata": {
  "kernelspec": {
   "display_name": "Python 3 (ipykernel)",
   "language": "python",
   "name": "python3"
  },
  "language_info": {
   "codemirror_mode": {
    "name": "ipython",
    "version": 3
   },
   "file_extension": ".py",
   "mimetype": "text/x-python",
   "name": "python",
   "nbconvert_exporter": "python",
   "pygments_lexer": "ipython3",
   "version": "3.12.7"
  }
 },
 "nbformat": 4,
 "nbformat_minor": 5
}
